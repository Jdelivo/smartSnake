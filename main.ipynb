{
 "cells": [
  {
   "cell_type": "code",
   "execution_count": 1,
   "metadata": {},
   "outputs": [
    {
     "name": "stdout",
     "output_type": "stream",
     "text": [
      "pygame 1.9.4\n",
      "Hello from the pygame community. https://www.pygame.org/contribute.html\n"
     ]
    }
   ],
   "source": [
    "import pygame\n",
    "from snakeModel import SnakeModel\n",
    "from Game import Game\n",
    "import os\n",
    "import numpy as np"
   ]
  },
  {
   "cell_type": "code",
   "execution_count": 2,
   "metadata": {},
   "outputs": [],
   "source": [
    "def mate(mother, father, chance, num_of_inputs, hidden_neurons, num_of_outputs, models):\n",
    "    ''' used to produce a new generation of neural networks '''\n",
    "    new_generation = []\n",
    "\n",
    "    for i in range(models):\n",
    "        kid = SnakeModel(num_of_inputs, hidden_neurons, num_of_outputs)\n",
    "        kid.mate(father, mother)\n",
    "        kid.mutate(chance)\n",
    "        new_generation.append(kid)\n",
    "\n",
    "    new_generation[-2].loadParent('parent1')\n",
    "    new_generation[-1].loadParent('parent2')\n",
    "\n",
    "    for i, model in enumerate(new_generation):\n",
    "        model.save(i)\n",
    "    print('--------------------')\n",
    "\n",
    "    return new_generation"
   ]
  },
  {
   "cell_type": "code",
   "execution_count": 3,
   "metadata": {},
   "outputs": [],
   "source": [
    "def main():\n",
    "    width = 500\n",
    "    rows = 20\n",
    "    num_of_inputs = 6\n",
    "    hidden_neurons = 25\n",
    "    num_of_outputs = 3\n",
    "    pygame.init()\n",
    "    surface = pygame.display.set_mode((width, width))\n",
    "    num_of_models = 200\n",
    "    delay = 0  # delay is necessary so that we can see what the snake does\n",
    "    epochs = 0\n",
    "    parent1 = SnakeModel(num_of_inputs, hidden_neurons, num_of_outputs)\n",
    "    parent2 = SnakeModel(num_of_inputs, hidden_neurons, num_of_outputs)\n",
    "    highscore = 0\n",
    "\n",
    "    # create models folder to save our models\n",
    "    if not os.path.exists('models'):\n",
    "        os.makedirs('models')\n",
    "\n",
    "    # try to load a generation from a previous execution\n",
    "    try:\n",
    "        epochs = np.load('epochs.npy')\n",
    "        parent1.loadParent('parent1')\n",
    "        parent2.loadParent('parent2')\n",
    "        highscore = np.load('highscore.npy')\n",
    "    except:\n",
    "        np.save('epochs.npy', epochs)\n",
    "        np.save('highscore.npy', highscore)\n",
    "        parent1.saveParent('parent1')\n",
    "        parent2.saveParent('parent2')\n",
    "\n",
    "    last_gen_models = []\n",
    "    for i in range(num_of_models):\n",
    "        last_gen_models.append(SnakeModel(num_of_inputs, hidden_neurons, num_of_outputs))\n",
    "\n",
    "        try:\n",
    "            last_gen_models[i].load(i)\n",
    "        except:\n",
    "            pass\n",
    "\n",
    "    while True:\n",
    "        epochs += 1\n",
    "        np.save('epochs.npy', epochs)\n",
    "        print('Epoch:', epochs)\n",
    "\n",
    "        # try all the neural networks of this generation\n",
    "        fitnesses = []\n",
    "        scores = []\n",
    "        for i in range(num_of_models):\n",
    "            game = Game(surface, width, rows)\n",
    "            model = last_gen_models[i]\n",
    "\n",
    "            while True:\n",
    "                if not game.play_turn(model, delay):\n",
    "                    break\n",
    "\n",
    "            fitnesses.append(game.fitness)\n",
    "            scores.append(game.score)\n",
    "\n",
    "        # produce new networks with 2 parents and mutation chance\n",
    "        chance = 0.2\n",
    "        print('Best score:', max(scores))\n",
    "        if max(scores) > highscore:\n",
    "            highscore = max(scores)\n",
    "\n",
    "        print('Highscore:', highscore)\n",
    "\n",
    "        if max(fitnesses) >= parent1.fitness:\n",
    "            parent2 = parent1\n",
    "            parent1 = last_gen_models[fitnesses.index(max(fitnesses))]\n",
    "            parent1.fitness = max(fitnesses)\n",
    "        elif max(fitnesses) >= parent2.fitness:\n",
    "            parent2 = last_gen_models[fitnesses.index(max(fitnesses))]\n",
    "            parent2.fitness = max(fitnesses)\n",
    "\n",
    "        last_gen_models = mate(parent1, parent2, chance,\n",
    "                               num_of_inputs, hidden_neurons, num_of_outputs, num_of_models)\n",
    "\n",
    "        parent1.saveParent('parent1')\n",
    "        parent2.saveParent('parent2')\n",
    "        np.save('highscore.npy', highscore)"
   ]
  },
  {
   "cell_type": "code",
   "execution_count": 4,
   "metadata": {},
   "outputs": [
    {
     "name": "stdout",
     "output_type": "stream",
     "text": [
      "Epoch: 4794\n",
      "Best score: 29\n",
      "Highscore: 46\n",
      "--------------------\n",
      "Epoch: 4795\n",
      "Best score: 21\n",
      "Highscore: 46\n",
      "--------------------\n",
      "Epoch: 4796\n"
     ]
    },
    {
     "ename": "KeyboardInterrupt",
     "evalue": "",
     "output_type": "error",
     "traceback": [
      "\u001b[1;31m---------------------------------------------------------------------------\u001b[0m",
      "\u001b[1;31mKeyboardInterrupt\u001b[0m                         Traceback (most recent call last)",
      "\u001b[1;32m<ipython-input-4-263240bbee7e>\u001b[0m in \u001b[0;36m<module>\u001b[1;34m\u001b[0m\n\u001b[1;32m----> 1\u001b[1;33m \u001b[0mmain\u001b[0m\u001b[1;33m(\u001b[0m\u001b[1;33m)\u001b[0m\u001b[1;33m\u001b[0m\u001b[1;33m\u001b[0m\u001b[0m\n\u001b[0m",
      "\u001b[1;32m<ipython-input-3-3f549c34f60b>\u001b[0m in \u001b[0;36mmain\u001b[1;34m()\u001b[0m\n\u001b[0;32m     52\u001b[0m \u001b[1;33m\u001b[0m\u001b[0m\n\u001b[0;32m     53\u001b[0m             \u001b[1;32mwhile\u001b[0m \u001b[1;32mTrue\u001b[0m\u001b[1;33m:\u001b[0m\u001b[1;33m\u001b[0m\u001b[1;33m\u001b[0m\u001b[0m\n\u001b[1;32m---> 54\u001b[1;33m                 \u001b[1;32mif\u001b[0m \u001b[1;32mnot\u001b[0m \u001b[0mgame\u001b[0m\u001b[1;33m.\u001b[0m\u001b[0mplay_turn\u001b[0m\u001b[1;33m(\u001b[0m\u001b[0mmodel\u001b[0m\u001b[1;33m,\u001b[0m \u001b[0mdelay\u001b[0m\u001b[1;33m)\u001b[0m\u001b[1;33m:\u001b[0m\u001b[1;33m\u001b[0m\u001b[1;33m\u001b[0m\u001b[0m\n\u001b[0m\u001b[0;32m     55\u001b[0m                     \u001b[1;32mbreak\u001b[0m\u001b[1;33m\u001b[0m\u001b[1;33m\u001b[0m\u001b[0m\n\u001b[0;32m     56\u001b[0m \u001b[1;33m\u001b[0m\u001b[0m\n",
      "\u001b[1;32mD:\\Documents\\Workspace\\SmartSnake\\Game.py\u001b[0m in \u001b[0;36mplay_turn\u001b[1;34m(self, model, delay)\u001b[0m\n\u001b[0;32m     28\u001b[0m \u001b[1;33m\u001b[0m\u001b[0m\n\u001b[0;32m     29\u001b[0m             \u001b[0minputs\u001b[0m \u001b[1;33m=\u001b[0m \u001b[0mnp\u001b[0m\u001b[1;33m.\u001b[0m\u001b[0marray\u001b[0m\u001b[1;33m(\u001b[0m\u001b[1;33m[\u001b[0m\u001b[1;33m*\u001b[0m\u001b[0mself\u001b[0m\u001b[1;33m.\u001b[0m\u001b[0minputs\u001b[0m\u001b[1;33m(\u001b[0m\u001b[1;33m)\u001b[0m\u001b[1;33m]\u001b[0m\u001b[1;33m)\u001b[0m\u001b[1;33m.\u001b[0m\u001b[0mreshape\u001b[0m\u001b[1;33m(\u001b[0m\u001b[1;33m-\u001b[0m\u001b[1;36m1\u001b[0m\u001b[1;33m)\u001b[0m\u001b[1;33m\u001b[0m\u001b[1;33m\u001b[0m\u001b[0m\n\u001b[1;32m---> 30\u001b[1;33m             \u001b[0mdirection\u001b[0m \u001b[1;33m=\u001b[0m \u001b[0mnp\u001b[0m\u001b[1;33m.\u001b[0m\u001b[0margmax\u001b[0m\u001b[1;33m(\u001b[0m\u001b[0mmodel\u001b[0m\u001b[1;33m.\u001b[0m\u001b[0mfeedforward\u001b[0m\u001b[1;33m(\u001b[0m\u001b[0minputs\u001b[0m\u001b[1;33m)\u001b[0m\u001b[1;33m)\u001b[0m\u001b[1;33m\u001b[0m\u001b[1;33m\u001b[0m\u001b[0m\n\u001b[0m\u001b[0;32m     31\u001b[0m             \u001b[0mcrashed\u001b[0m \u001b[1;33m=\u001b[0m \u001b[1;32mNone\u001b[0m\u001b[1;33m\u001b[0m\u001b[1;33m\u001b[0m\u001b[0m\n\u001b[0;32m     32\u001b[0m             \u001b[1;32mif\u001b[0m \u001b[0mdirection\u001b[0m \u001b[1;33m==\u001b[0m \u001b[1;36m0\u001b[0m\u001b[1;33m:\u001b[0m\u001b[1;33m\u001b[0m\u001b[1;33m\u001b[0m\u001b[0m\n",
      "\u001b[1;32mD:\\Documents\\Workspace\\SmartSnake\\snakeModel.py\u001b[0m in \u001b[0;36mfeedforward\u001b[1;34m(self, x)\u001b[0m\n\u001b[0;32m     14\u001b[0m \u001b[1;33m\u001b[0m\u001b[0m\n\u001b[0;32m     15\u001b[0m     \u001b[1;32mdef\u001b[0m \u001b[0mfeedforward\u001b[0m\u001b[1;33m(\u001b[0m\u001b[0mself\u001b[0m\u001b[1;33m,\u001b[0m \u001b[0mx\u001b[0m\u001b[1;33m)\u001b[0m\u001b[1;33m:\u001b[0m\u001b[1;33m\u001b[0m\u001b[1;33m\u001b[0m\u001b[0m\n\u001b[1;32m---> 16\u001b[1;33m         \u001b[0mhidden_layer1\u001b[0m \u001b[1;33m=\u001b[0m \u001b[0mself\u001b[0m\u001b[1;33m.\u001b[0m\u001b[0msigmoid\u001b[0m\u001b[1;33m(\u001b[0m\u001b[0mnp\u001b[0m\u001b[1;33m.\u001b[0m\u001b[0mdot\u001b[0m\u001b[1;33m(\u001b[0m\u001b[0mx\u001b[0m\u001b[1;33m,\u001b[0m \u001b[0mself\u001b[0m\u001b[1;33m.\u001b[0m\u001b[0mlayers\u001b[0m\u001b[1;33m[\u001b[0m\u001b[1;36m0\u001b[0m\u001b[1;33m]\u001b[0m\u001b[1;33m)\u001b[0m\u001b[1;33m)\u001b[0m\u001b[1;33m\u001b[0m\u001b[1;33m\u001b[0m\u001b[0m\n\u001b[0m\u001b[0;32m     17\u001b[0m         \u001b[0mhidden_layer2\u001b[0m \u001b[1;33m=\u001b[0m \u001b[0mself\u001b[0m\u001b[1;33m.\u001b[0m\u001b[0msigmoid\u001b[0m\u001b[1;33m(\u001b[0m\u001b[0mnp\u001b[0m\u001b[1;33m.\u001b[0m\u001b[0mdot\u001b[0m\u001b[1;33m(\u001b[0m\u001b[0mhidden_layer1\u001b[0m\u001b[1;33m,\u001b[0m \u001b[0mself\u001b[0m\u001b[1;33m.\u001b[0m\u001b[0mlayers\u001b[0m\u001b[1;33m[\u001b[0m\u001b[1;36m1\u001b[0m\u001b[1;33m]\u001b[0m\u001b[1;33m)\u001b[0m\u001b[1;33m)\u001b[0m\u001b[1;33m\u001b[0m\u001b[1;33m\u001b[0m\u001b[0m\n\u001b[0;32m     18\u001b[0m         \u001b[0moutput\u001b[0m \u001b[1;33m=\u001b[0m \u001b[0mself\u001b[0m\u001b[1;33m.\u001b[0m\u001b[0msigmoid\u001b[0m\u001b[1;33m(\u001b[0m\u001b[0mnp\u001b[0m\u001b[1;33m.\u001b[0m\u001b[0mdot\u001b[0m\u001b[1;33m(\u001b[0m\u001b[0mhidden_layer2\u001b[0m\u001b[1;33m,\u001b[0m \u001b[0mself\u001b[0m\u001b[1;33m.\u001b[0m\u001b[0mlayers\u001b[0m\u001b[1;33m[\u001b[0m\u001b[1;36m2\u001b[0m\u001b[1;33m]\u001b[0m\u001b[1;33m)\u001b[0m\u001b[1;33m)\u001b[0m\u001b[1;33m\u001b[0m\u001b[1;33m\u001b[0m\u001b[0m\n",
      "\u001b[1;31mKeyboardInterrupt\u001b[0m: "
     ]
    }
   ],
   "source": [
    "main()"
   ]
  },
  {
   "cell_type": "code",
   "execution_count": null,
   "metadata": {},
   "outputs": [],
   "source": []
  }
 ],
 "metadata": {
  "kernelspec": {
   "display_name": "Python 3",
   "language": "python",
   "name": "python3"
  },
  "language_info": {
   "codemirror_mode": {
    "name": "ipython",
    "version": 3
   },
   "file_extension": ".py",
   "mimetype": "text/x-python",
   "name": "python",
   "nbconvert_exporter": "python",
   "pygments_lexer": "ipython3",
   "version": "3.7.1"
  }
 },
 "nbformat": 4,
 "nbformat_minor": 2
}
